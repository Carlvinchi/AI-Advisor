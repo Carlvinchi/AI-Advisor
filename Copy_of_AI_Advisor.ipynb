{
  "nbformat": 4,
  "nbformat_minor": 0,
  "metadata": {
    "colab": {
      "name": "Copy of AI_Advisor.ipynb",
      "provenance": [],
      "collapsed_sections": []
    },
    "kernelspec": {
      "name": "python3",
      "display_name": "Python 3"
    },
    "language_info": {
      "name": "python"
    }
  },
  "cells": [
    {
      "cell_type": "code",
      "metadata": {
        "id": "zfZWb9AA01Gc"
      },
      "source": [
        "from joblib import dump, load\n",
        "import pandas as pd\n",
        "import numpy as np\n",
        "from sklearn.model_selection import train_test_split, cross_val_score\n",
        "from sklearn.metrics import accuracy_score, confusion_matrix, classification_report\n",
        "\n",
        "# Trees Approach\n",
        "from sklearn.tree import DecisionTreeClassifier\n",
        "# Ensemble Approach\n",
        "from sklearn.ensemble import RandomForestClassifier, GradientBoostingClassifier\n"
      ],
      "execution_count": 1,
      "outputs": []
    },
    {
      "cell_type": "code",
      "metadata": {
        "id": "vNp7SLjG2tQ7",
        "colab": {
          "base_uri": "https://localhost:8080/"
        },
        "outputId": "bf07017e-3891-463e-e8dd-1779fde39832"
      },
      "source": [
        "#import the data\n",
        "from google.colab import drive\n",
        "drive.mount('/content/drive')"
      ],
      "execution_count": 2,
      "outputs": [
        {
          "output_type": "stream",
          "text": [
            "Mounted at /content/drive\n"
          ],
          "name": "stdout"
        }
      ]
    },
    {
      "cell_type": "code",
      "metadata": {
        "id": "VBax4joF2uoR"
      },
      "source": [
        "#importing data\n",
        "train_path = '/content/drive/MyDrive/data/large_data.csv'\n",
        "test_path = '/content/drive/MyDrive/data/student_data.csv'"
      ],
      "execution_count": 3,
      "outputs": []
    },
    {
      "cell_type": "code",
      "metadata": {
        "colab": {
          "base_uri": "https://localhost:8080/"
        },
        "id": "fyc8jpBi7XiE",
        "outputId": "98ac8792-3d4e-40e9-9962-364bd5869e86"
      },
      "source": [
        "train_df = pd.read_csv(train_path)\n",
        "train_df.info()\n"
      ],
      "execution_count": 4,
      "outputs": [
        {
          "output_type": "stream",
          "text": [
            "<class 'pandas.core.frame.DataFrame'>\n",
            "RangeIndex: 120960 entries, 0 to 120959\n",
            "Data columns (total 7 columns):\n",
            " #   Column                                                                     Non-Null Count   Dtype  \n",
            "---  ------                                                                     --------------   -----  \n",
            " 0   What is your cumulative weighted average(CWA) / grade point average(GPA)?  120960 non-null  float64\n",
            " 1   Were you able to increase your CWA/GPA last semester?                      120960 non-null  object \n",
            " 2   Do you have a personal time table?                                         120960 non-null  object \n",
            " 3   How many times do you study every week?                                    120960 non-null  int64  \n",
            " 4   Do you always understand what you are taught at lectures?                  120960 non-null  object \n",
            " 5   How often have you been attending lectures?                                120960 non-null  object \n",
            " 6   Advice                                                                     120960 non-null  object \n",
            "dtypes: float64(1), int64(1), object(5)\n",
            "memory usage: 6.5+ MB\n"
          ],
          "name": "stdout"
        }
      ]
    },
    {
      "cell_type": "code",
      "metadata": {
        "colab": {
          "base_uri": "https://localhost:8080/",
          "height": 742
        },
        "id": "niN1isTA7qfH",
        "outputId": "a5dafcf5-12cf-4574-d679-5a85f3be1010"
      },
      "source": [
        "train_df.head(10)"
      ],
      "execution_count": 5,
      "outputs": [
        {
          "output_type": "execute_result",
          "data": {
            "text/html": [
              "<div>\n",
              "<style scoped>\n",
              "    .dataframe tbody tr th:only-of-type {\n",
              "        vertical-align: middle;\n",
              "    }\n",
              "\n",
              "    .dataframe tbody tr th {\n",
              "        vertical-align: top;\n",
              "    }\n",
              "\n",
              "    .dataframe thead th {\n",
              "        text-align: right;\n",
              "    }\n",
              "</style>\n",
              "<table border=\"1\" class=\"dataframe\">\n",
              "  <thead>\n",
              "    <tr style=\"text-align: right;\">\n",
              "      <th></th>\n",
              "      <th>What is your cumulative weighted average(CWA) / grade point average(GPA)?</th>\n",
              "      <th>Were you able to increase your CWA/GPA last semester?</th>\n",
              "      <th>Do you have a personal time table?</th>\n",
              "      <th>How many times do you study every week?</th>\n",
              "      <th>Do you always understand what you are taught at lectures?</th>\n",
              "      <th>How often have you been attending lectures?</th>\n",
              "      <th>Advice</th>\n",
              "    </tr>\n",
              "  </thead>\n",
              "  <tbody>\n",
              "    <tr>\n",
              "      <th>0</th>\n",
              "      <td>67.50</td>\n",
              "      <td>Yes</td>\n",
              "      <td>No</td>\n",
              "      <td>2</td>\n",
              "      <td>No</td>\n",
              "      <td>seldom</td>\n",
              "      <td>Increase study time and ask for help when faci...</td>\n",
              "    </tr>\n",
              "    <tr>\n",
              "      <th>1</th>\n",
              "      <td>71.75</td>\n",
              "      <td>Yes</td>\n",
              "      <td>No</td>\n",
              "      <td>4</td>\n",
              "      <td>Yes</td>\n",
              "      <td>often</td>\n",
              "      <td>Aim higher and don't be complacent</td>\n",
              "    </tr>\n",
              "    <tr>\n",
              "      <th>2</th>\n",
              "      <td>60.00</td>\n",
              "      <td>Yes</td>\n",
              "      <td>No</td>\n",
              "      <td>2</td>\n",
              "      <td>No</td>\n",
              "      <td>seldom</td>\n",
              "      <td>Increase study time and ask for help when faci...</td>\n",
              "    </tr>\n",
              "    <tr>\n",
              "      <th>3</th>\n",
              "      <td>62.37</td>\n",
              "      <td>Yes</td>\n",
              "      <td>Yes</td>\n",
              "      <td>4</td>\n",
              "      <td>No</td>\n",
              "      <td>often</td>\n",
              "      <td>Increase study time and ask for help when faci...</td>\n",
              "    </tr>\n",
              "    <tr>\n",
              "      <th>4</th>\n",
              "      <td>56.00</td>\n",
              "      <td>No</td>\n",
              "      <td>No</td>\n",
              "      <td>2</td>\n",
              "      <td>No</td>\n",
              "      <td>seldom</td>\n",
              "      <td>Seek for a discipline and serious academic group</td>\n",
              "    </tr>\n",
              "    <tr>\n",
              "      <th>5</th>\n",
              "      <td>59.50</td>\n",
              "      <td>Yes</td>\n",
              "      <td>No</td>\n",
              "      <td>2</td>\n",
              "      <td>No</td>\n",
              "      <td>seldom</td>\n",
              "      <td>Increase study time and ask for help when faci...</td>\n",
              "    </tr>\n",
              "    <tr>\n",
              "      <th>6</th>\n",
              "      <td>67.00</td>\n",
              "      <td>Yes</td>\n",
              "      <td>Yes</td>\n",
              "      <td>4</td>\n",
              "      <td>No</td>\n",
              "      <td>often</td>\n",
              "      <td>Increase study time and ask for help when faci...</td>\n",
              "    </tr>\n",
              "    <tr>\n",
              "      <th>7</th>\n",
              "      <td>76.00</td>\n",
              "      <td>Yes</td>\n",
              "      <td>Yes</td>\n",
              "      <td>4</td>\n",
              "      <td>No</td>\n",
              "      <td>often</td>\n",
              "      <td>Increase study time and ask for help when faci...</td>\n",
              "    </tr>\n",
              "    <tr>\n",
              "      <th>8</th>\n",
              "      <td>64.50</td>\n",
              "      <td>Yes</td>\n",
              "      <td>Yes</td>\n",
              "      <td>4</td>\n",
              "      <td>No</td>\n",
              "      <td>often</td>\n",
              "      <td>Increase study time and ask for help when faci...</td>\n",
              "    </tr>\n",
              "    <tr>\n",
              "      <th>9</th>\n",
              "      <td>69.95</td>\n",
              "      <td>Yes</td>\n",
              "      <td>Yes</td>\n",
              "      <td>2</td>\n",
              "      <td>Yes</td>\n",
              "      <td>seldom</td>\n",
              "      <td>Increase study time and ask for help when faci...</td>\n",
              "    </tr>\n",
              "  </tbody>\n",
              "</table>\n",
              "</div>"
            ],
            "text/plain": [
              "   What is your cumulative weighted average(CWA) / grade point average(GPA)?  ...                                             Advice\n",
              "0                                              67.50                          ...  Increase study time and ask for help when faci...\n",
              "1                                              71.75                          ...                Aim higher and don't be complacent \n",
              "2                                              60.00                          ...  Increase study time and ask for help when faci...\n",
              "3                                              62.37                          ...  Increase study time and ask for help when faci...\n",
              "4                                              56.00                          ...   Seek for a discipline and serious academic group\n",
              "5                                              59.50                          ...  Increase study time and ask for help when faci...\n",
              "6                                              67.00                          ...  Increase study time and ask for help when faci...\n",
              "7                                              76.00                          ...  Increase study time and ask for help when faci...\n",
              "8                                              64.50                          ...  Increase study time and ask for help when faci...\n",
              "9                                              69.95                          ...  Increase study time and ask for help when faci...\n",
              "\n",
              "[10 rows x 7 columns]"
            ]
          },
          "metadata": {
            "tags": []
          },
          "execution_count": 5
        }
      ]
    },
    {
      "cell_type": "code",
      "metadata": {
        "colab": {
          "base_uri": "https://localhost:8080/"
        },
        "id": "cM-PruHW-RBH",
        "outputId": "97dfe3fb-74a1-495f-8743-fff7cc490273"
      },
      "source": [
        "col_list = list(train_df)\n",
        "print(col_list)"
      ],
      "execution_count": null,
      "outputs": [
        {
          "output_type": "stream",
          "text": [
            "['What is your cumulative weighted average(CWA) / grade point average(GPA)?', 'Were you able to increase your CWA/GPA last semester?', 'Do you have a personal time table?', 'How many times do you study every week?', 'Do you always understand what you are taught at lectures?', 'How often have you been attending lectures?', 'Advice']\n"
          ],
          "name": "stdout"
        }
      ]
    },
    {
      "cell_type": "code",
      "metadata": {
        "id": "h_RtGIMA-hvM"
      },
      "source": [
        "#list of columns\n",
        "['What is your cumulative weighted average(CWA) / grade point average(GPA)?', 'Were you able to increase your CWA/GPA last semester?', 'Do you have a personal time table?', 'How many times do you study every week?', 'Do you always understand what you are taught at lectures?', 'How often have you been attending lectures?', 'Advice']"
      ],
      "execution_count": null,
      "outputs": []
    },
    {
      "cell_type": "code",
      "metadata": {
        "id": "VYfhQNuE_Tbb",
        "colab": {
          "base_uri": "https://localhost:8080/"
        },
        "outputId": "c0d59074-4190-4136-9809-51b7a4ae5271"
      },
      "source": [
        "#creating a dictionary for the labels\n",
        "test_df = pd.read_csv(test_path)\n",
        "my_advice = {}\n",
        "k = 0\n",
        "for i in test_df['Advice']:\n",
        "  my_advice[k]= i\n",
        "  k+=1\n",
        "print(my_advice)"
      ],
      "execution_count": null,
      "outputs": [
        {
          "output_type": "stream",
          "text": [
            "{0: 'Increase study time and ask for help when facing challenges', 1: \"Aim higher and don't be complacent \", 2: 'Increase study time and ask for help when facing challenges', 3: 'Increase study time and ask for help when facing challenges', 4: 'Seek for a discipline and serious academic group', 5: 'Increase study time and ask for help when facing challenges', 6: 'Increase study time and ask for help when facing challenges', 7: 'Increase study time and ask for help when facing challenges', 8: 'Increase study time and ask for help when facing challenges', 9: 'Increase study time and ask for help when facing challenges', 10: 'Seek for a discipline and serious academic group', 11: \"Aim higher and don't be complacent \", 12: 'Seek for a discipline and serious academic group', 13: \"Aim higher and don't be complacent \", 14: 'Increase study time and ask for help when facing challenges', 15: 'Seek for a discipline and serious academic group', 16: \"Aim higher and don't be complacent \", 17: 'Increase study time and ask for help when facing challenges', 18: 'Increase study time and ask for help when facing challenges', 19: 'Increase study time and ask for help when facing challenges', 20: 'Increase study time and ask for help when facing challenges', 21: 'Seek for a discipline and serious academic group', 22: 'Increase study time and ask for help when facing challenges', 23: \"Aim higher and don't be complacent \", 24: 'Increase study time and ask for help when facing challenges', 25: 'Increase study time and ask for help when facing challenges', 26: 'Increase study time and ask for help when facing challenges', 27: 'Increase study time and ask for help when facing challenges', 28: \"Aim higher and don't be complacent \", 29: 'Increase study time and ask for help when facing challenges', 30: 'Increase study time and ask for help when facing challenges', 31: 'Increase study time and ask for help when facing challenges', 32: 'Seek for a discipline and serious academic group', 33: 'Increase study time and ask for help when facing challenges', 34: 'Increase study time and ask for help when facing challenges', 35: \"Aim higher and don't be complacent \", 36: 'Increase study time and ask for help when facing challenges', 37: 'Increase study time and ask for help when facing challenges', 38: \"Aim higher and don't be complacent \", 39: \"Aim higher and don't be complacent \", 40: 'Increase study time and ask for help when facing challenges', 41: 'Increase study time and ask for help when facing challenges', 42: 'Increase study time and ask for help when facing challenges', 43: \"Aim higher and don't be complacent \", 44: \"Aim higher and don't be complacent \", 45: 'Increase study time and ask for help when facing challenges', 46: 'Seek for a discipline and serious academic group', 47: 'Seek for a discipline and serious academic group', 48: \"Aim higher and don't be complacent \", 49: 'Increase study time and ask for help when facing challenges', 50: 'Increase study time and ask for help when facing challenges', 51: 'Seek for a discipline and serious academic group', 52: 'Seek for a discipline and serious academic group', 53: 'Seek for a discipline and serious academic group', 54: 'Increase study time and ask for help when facing challenges', 55: 'Seek for a discipline and serious academic group', 56: 'Seek for a discipline and serious academic group', 57: 'Seek for a discipline and serious academic group', 58: 'Increase study time and ask for help when facing challenges', 59: 'Seek for a discipline and serious academic group', 60: 'Increase study time and ask for help when facing challenges', 61: 'Increase study time and ask for help when facing challenges', 62: 'Seek for a discipline and serious academic group', 63: 'Increase study time and ask for help when facing challenges', 64: 'Seek for a discipline and serious academic group', 65: \"Aim higher and don't be complacent \", 66: \"Aim higher and don't be complacent \", 67: 'Seek for a discipline and serious academic group', 68: \"Aim higher and don't be complacent \", 69: 'Seek for a discipline and serious academic group', 70: 'Increase study time and ask for help when facing challenges', 71: 'Increase study time and ask for help when facing challenges', 72: 'Increase study time and ask for help when facing challenges', 73: 'Seek for a discipline and serious academic group', 74: 'Increase study time and ask for help when facing challenges', 75: 'Increase study time and ask for help when facing challenges', 76: 'Increase study time and ask for help when facing challenges', 77: \"Aim higher and don't be complacent \", 78: 'Increase study time and ask for help when facing challenges', 79: 'Seek for a discipline and serious academic group', 80: 'Seek for a discipline and serious academic group', 81: \"Aim higher and don't be complacent \", 82: \"Aim higher and don't be complacent \", 83: 'Increase study time and ask for help when facing challenges', 84: 'Increase study time and ask for help when facing challenges', 85: 'Increase study time and ask for help when facing challenges', 86: 'Seek for a discipline and serious academic group', 87: 'Seek for a discipline and serious academic group', 88: 'Increase study time and ask for help when facing challenges', 89: \"Aim higher and don't be complacent \", 90: \"Aim higher and don't be complacent \", 91: 'Increase study time and ask for help when facing challenges', 92: 'Increase study time and ask for help when facing challenges', 93: 'Seek for a discipline and serious academic group', 94: 'Increase study time and ask for help when facing challenges', 95: \"Aim higher and don't be complacent \", 96: 'Increase study time and ask for help when facing challenges', 97: 'Increase study time and ask for help when facing challenges', 98: 'Seek for a discipline and serious academic group', 99: 'Seek for a discipline and serious academic group', 100: \"Aim higher and don't be complacent \", 101: 'Increase study time and ask for help when facing challenges', 102: 'Increase study time and ask for help when facing challenges', 103: 'Increase study time and ask for help when facing challenges', 104: \"Aim higher and don't be complacent \", 105: 'Seek for a discipline and serious academic group', 106: 'Increase study time and ask for help when facing challenges', 107: 'Seek for a discipline and serious academic group', 108: 'Increase study time and ask for help when facing challenges', 109: 'Increase study time and ask for help when facing challenges', 110: 'Increase study time and ask for help when facing challenges', 111: \"Aim higher and don't be complacent \", 112: 'Increase study time and ask for help when facing challenges', 113: 'Increase study time and ask for help when facing challenges', 114: \"Aim higher and don't be complacent \", 115: \"Aim higher and don't be complacent \", 116: 'Increase study time and ask for help when facing challenges', 117: \"Aim higher and don't be complacent \", 118: 'Increase study time and ask for help when facing challenges', 119: 'Increase study time and ask for help when facing challenges', 120: 'Increase study time and ask for help when facing challenges', 121: \"Aim higher and don't be complacent \", 122: \"Aim higher and don't be complacent \", 123: \"Aim higher and don't be complacent \", 124: 'Increase study time and ask for help when facing challenges', 125: 'Seek for a discipline and serious academic group', 126: 'Increase study time and ask for help when facing challenges', 127: 'Seek for a discipline and serious academic group', 128: 'Seek for a discipline and serious academic group', 129: 'Increase study time and ask for help when facing challenges', 130: 'Increase study time and ask for help when facing challenges', 131: 'Increase study time and ask for help when facing challenges', 132: 'Increase study time and ask for help when facing challenges', 133: 'Increase study time and ask for help when facing challenges', 134: 'Increase study time and ask for help when facing challenges'}\n"
          ],
          "name": "stdout"
        }
      ]
    },
    {
      "cell_type": "code",
      "metadata": {
        "id": "DzEmUNRsHTew"
      },
      "source": [
        "{0: 'Increase study time and ask for help when facing challenges', 1: \"Aim higher and don't be complacent \", 2: 'Increase study time and ask for help when facing challenges', 3: 'Increase study time and ask for help when facing challenges', 4: 'Seek for a discipline and serious academic group', 5: 'Increase study time and ask for help when facing challenges', 6: 'Increase study time and ask for help when facing challenges', 7: 'Increase study time and ask for help when facing challenges', 8: 'Increase study time and ask for help when facing challenges', 9: 'Increase study time and ask for help when facing challenges', 10: 'Seek for a discipline and serious academic group', 11: \"Aim higher and don't be complacent \", 12: 'Seek for a discipline and serious academic group', 13: \"Aim higher and don't be complacent \", 14: 'Increase study time and ask for help when facing challenges', 15: 'Seek for a discipline and serious academic group', 16: \"Aim higher and don't be complacent \", 17: 'Increase study time and ask for help when facing challenges', 18: 'Increase study time and ask for help when facing challenges', 19: 'Increase study time and ask for help when facing challenges', 20: 'Increase study time and ask for help when facing challenges', 21: 'Seek for a discipline and serious academic group', 22: 'Increase study time and ask for help when facing challenges', 23: \"Aim higher and don't be complacent \", 24: 'Increase study time and ask for help when facing challenges', 25: 'Increase study time and ask for help when facing challenges', 26: 'Increase study time and ask for help when facing challenges', 27: 'Increase study time and ask for help when facing challenges', 28: \"Aim higher and don't be complacent \", 29: 'Increase study time and ask for help when facing challenges', 30: 'Increase study time and ask for help when facing challenges', 31: 'Increase study time and ask for help when facing challenges', 32: 'Seek for a discipline and serious academic group', 33: 'Increase study time and ask for help when facing challenges', 34: 'Increase study time and ask for help when facing challenges', 35: \"Aim higher and don't be complacent \", 36: 'Increase study time and ask for help when facing challenges', 37: 'Increase study time and ask for help when facing challenges', 38: \"Aim higher and don't be complacent \", 39: \"Aim higher and don't be complacent \", 40: 'Increase study time and ask for help when facing challenges', 41: 'Increase study time and ask for help when facing challenges', 42: 'Increase study time and ask for help when facing challenges', 43: \"Aim higher and don't be complacent \", 44: \"Aim higher and don't be complacent \", 45: 'Increase study time and ask for help when facing challenges', 46: 'Seek for a discipline and serious academic group', 47: 'Seek for a discipline and serious academic group', 48: \"Aim higher and don't be complacent \", 49: 'Increase study time and ask for help when facing challenges', 50: 'Increase study time and ask for help when facing challenges', 51: 'Seek for a discipline and serious academic group', 52: 'Seek for a discipline and serious academic group', 53: 'Seek for a discipline and serious academic group', 54: 'Increase study time and ask for help when facing challenges', 55: 'Seek for a discipline and serious academic group', 56: 'Seek for a discipline and serious academic group', 57: 'Seek for a discipline and serious academic group', 58: 'Increase study time and ask for help when facing challenges', 59: 'Seek for a discipline and serious academic group', 60: 'Increase study time and ask for help when facing challenges', 61: 'Increase study time and ask for help when facing challenges', 62: 'Seek for a discipline and serious academic group', 63: 'Increase study time and ask for help when facing challenges', 64: 'Seek for a discipline and serious academic group', 65: \"Aim higher and don't be complacent \", 66: \"Aim higher and don't be complacent \", 67: 'Seek for a discipline and serious academic group', 68: \"Aim higher and don't be complacent \", 69: 'Seek for a discipline and serious academic group', 70: 'Increase study time and ask for help when facing challenges', 71: 'Increase study time and ask for help when facing challenges', 72: 'Increase study time and ask for help when facing challenges', 73: 'Seek for a discipline and serious academic group', 74: 'Increase study time and ask for help when facing challenges', 75: 'Increase study time and ask for help when facing challenges', 76: 'Increase study time and ask for help when facing challenges', 77: \"Aim higher and don't be complacent \", 78: 'Increase study time and ask for help when facing challenges', 79: 'Seek for a discipline and serious academic group', 80: 'Seek for a discipline and serious academic group', 81: \"Aim higher and don't be complacent \", 82: \"Aim higher and don't be complacent \", 83: 'Increase study time and ask for help when facing challenges', 84: 'Increase study time and ask for help when facing challenges', 85: 'Increase study time and ask for help when facing challenges', 86: 'Seek for a discipline and serious academic group', 87: 'Seek for a discipline and serious academic group', 88: 'Increase study time and ask for help when facing challenges', 89: \"Aim higher and don't be complacent \", 90: \"Aim higher and don't be complacent \", 91: 'Increase study time and ask for help when facing challenges', 92: 'Increase study time and ask for help when facing challenges', 93: 'Seek for a discipline and serious academic group', 94: 'Increase study time and ask for help when facing challenges', 95: \"Aim higher and don't be complacent \", 96: 'Increase study time and ask for help when facing challenges', 97: 'Increase study time and ask for help when facing challenges', 98: 'Seek for a discipline and serious academic group', 99: 'Seek for a discipline and serious academic group', 100: \"Aim higher and don't be complacent \", 101: 'Increase study time and ask for help when facing challenges', 102: 'Increase study time and ask for help when facing challenges', 103: 'Increase study time and ask for help when facing challenges', 104: \"Aim higher and don't be complacent \", 105: 'Seek for a discipline and serious academic group', 106: 'Increase study time and ask for help when facing challenges', 107: 'Seek for a discipline and serious academic group', 108: 'Increase study time and ask for help when facing challenges', 109: 'Increase study time and ask for help when facing challenges', 110: 'Increase study time and ask for help when facing challenges', 111: \"Aim higher and don't be complacent \", 112: 'Increase study time and ask for help when facing challenges', 113: 'Increase study time and ask for help when facing challenges', 114: \"Aim higher and don't be complacent \", 115: \"Aim higher and don't be complacent \", 116: 'Increase study time and ask for help when facing challenges', 117: \"Aim higher and don't be complacent \", 118: 'Increase study time and ask for help when facing challenges', 119: 'Increase study time and ask for help when facing challenges', 120: 'Increase study time and ask for help when facing challenges', 121: \"Aim higher and don't be complacent \", 122: \"Aim higher and don't be complacent \", 123: \"Aim higher and don't be complacent \", 124: 'Increase study time and ask for help when facing challenges', 125: 'Seek for a discipline and serious academic group', 126: 'Increase study time and ask for help when facing challenges', 127: 'Seek for a discipline and serious academic group', 128: 'Seek for a discipline and serious academic group', 129: 'Increase study time and ask for help when facing challenges', 130: 'Increase study time and ask for help when facing challenges', 131: 'Increase study time and ask for help when facing challenges', 132: 'Increase study time and ask for help when facing challenges', 133: 'Increase study time and ask for help when facing challenges', 134: 'Increase study time and ask for help when facing challenges'}"
      ],
      "execution_count": null,
      "outputs": []
    },
    {
      "cell_type": "code",
      "metadata": {
        "id": "0KoHuHN0HYkn"
      },
      "source": [
        "#replacing some categorical columns with numberic columns\n",
        "train_df = pd.get_dummies(data = train_df, columns =['Were you able to increase your CWA/GPA last semester?','Do you have a personal time table?','Do you always understand what you are taught at lectures?','How often have you been attending lectures?'] )"
      ],
      "execution_count": 6,
      "outputs": []
    },
    {
      "cell_type": "code",
      "metadata": {
        "colab": {
          "base_uri": "https://localhost:8080/",
          "height": 1000
        },
        "id": "ma_-H_b8JI-w",
        "outputId": "91c4e2bd-f216-4e1f-f1ab-46d93afdc2d8"
      },
      "source": [
        "train_df.head(10)"
      ],
      "execution_count": 7,
      "outputs": [
        {
          "output_type": "execute_result",
          "data": {
            "text/html": [
              "<div>\n",
              "<style scoped>\n",
              "    .dataframe tbody tr th:only-of-type {\n",
              "        vertical-align: middle;\n",
              "    }\n",
              "\n",
              "    .dataframe tbody tr th {\n",
              "        vertical-align: top;\n",
              "    }\n",
              "\n",
              "    .dataframe thead th {\n",
              "        text-align: right;\n",
              "    }\n",
              "</style>\n",
              "<table border=\"1\" class=\"dataframe\">\n",
              "  <thead>\n",
              "    <tr style=\"text-align: right;\">\n",
              "      <th></th>\n",
              "      <th>What is your cumulative weighted average(CWA) / grade point average(GPA)?</th>\n",
              "      <th>How many times do you study every week?</th>\n",
              "      <th>Advice</th>\n",
              "      <th>Were you able to increase your CWA/GPA last semester?_No</th>\n",
              "      <th>Were you able to increase your CWA/GPA last semester?_Yes</th>\n",
              "      <th>Do you have a personal time table?_No</th>\n",
              "      <th>Do you have a personal time table?_Yes</th>\n",
              "      <th>Do you always understand what you are taught at lectures?_No</th>\n",
              "      <th>Do you always understand what you are taught at lectures?_Yes</th>\n",
              "      <th>How often have you been attending lectures?_often</th>\n",
              "      <th>How often have you been attending lectures?_often</th>\n",
              "      <th>How often have you been attending lectures?_seldom</th>\n",
              "    </tr>\n",
              "  </thead>\n",
              "  <tbody>\n",
              "    <tr>\n",
              "      <th>0</th>\n",
              "      <td>67.50</td>\n",
              "      <td>2</td>\n",
              "      <td>Increase study time and ask for help when faci...</td>\n",
              "      <td>0</td>\n",
              "      <td>1</td>\n",
              "      <td>1</td>\n",
              "      <td>0</td>\n",
              "      <td>1</td>\n",
              "      <td>0</td>\n",
              "      <td>0</td>\n",
              "      <td>0</td>\n",
              "      <td>1</td>\n",
              "    </tr>\n",
              "    <tr>\n",
              "      <th>1</th>\n",
              "      <td>71.75</td>\n",
              "      <td>4</td>\n",
              "      <td>Aim higher and don't be complacent</td>\n",
              "      <td>0</td>\n",
              "      <td>1</td>\n",
              "      <td>1</td>\n",
              "      <td>0</td>\n",
              "      <td>0</td>\n",
              "      <td>1</td>\n",
              "      <td>1</td>\n",
              "      <td>0</td>\n",
              "      <td>0</td>\n",
              "    </tr>\n",
              "    <tr>\n",
              "      <th>2</th>\n",
              "      <td>60.00</td>\n",
              "      <td>2</td>\n",
              "      <td>Increase study time and ask for help when faci...</td>\n",
              "      <td>0</td>\n",
              "      <td>1</td>\n",
              "      <td>1</td>\n",
              "      <td>0</td>\n",
              "      <td>1</td>\n",
              "      <td>0</td>\n",
              "      <td>0</td>\n",
              "      <td>0</td>\n",
              "      <td>1</td>\n",
              "    </tr>\n",
              "    <tr>\n",
              "      <th>3</th>\n",
              "      <td>62.37</td>\n",
              "      <td>4</td>\n",
              "      <td>Increase study time and ask for help when faci...</td>\n",
              "      <td>0</td>\n",
              "      <td>1</td>\n",
              "      <td>0</td>\n",
              "      <td>1</td>\n",
              "      <td>1</td>\n",
              "      <td>0</td>\n",
              "      <td>0</td>\n",
              "      <td>1</td>\n",
              "      <td>0</td>\n",
              "    </tr>\n",
              "    <tr>\n",
              "      <th>4</th>\n",
              "      <td>56.00</td>\n",
              "      <td>2</td>\n",
              "      <td>Seek for a discipline and serious academic group</td>\n",
              "      <td>1</td>\n",
              "      <td>0</td>\n",
              "      <td>1</td>\n",
              "      <td>0</td>\n",
              "      <td>1</td>\n",
              "      <td>0</td>\n",
              "      <td>0</td>\n",
              "      <td>0</td>\n",
              "      <td>1</td>\n",
              "    </tr>\n",
              "    <tr>\n",
              "      <th>5</th>\n",
              "      <td>59.50</td>\n",
              "      <td>2</td>\n",
              "      <td>Increase study time and ask for help when faci...</td>\n",
              "      <td>0</td>\n",
              "      <td>1</td>\n",
              "      <td>1</td>\n",
              "      <td>0</td>\n",
              "      <td>1</td>\n",
              "      <td>0</td>\n",
              "      <td>0</td>\n",
              "      <td>0</td>\n",
              "      <td>1</td>\n",
              "    </tr>\n",
              "    <tr>\n",
              "      <th>6</th>\n",
              "      <td>67.00</td>\n",
              "      <td>4</td>\n",
              "      <td>Increase study time and ask for help when faci...</td>\n",
              "      <td>0</td>\n",
              "      <td>1</td>\n",
              "      <td>0</td>\n",
              "      <td>1</td>\n",
              "      <td>1</td>\n",
              "      <td>0</td>\n",
              "      <td>1</td>\n",
              "      <td>0</td>\n",
              "      <td>0</td>\n",
              "    </tr>\n",
              "    <tr>\n",
              "      <th>7</th>\n",
              "      <td>76.00</td>\n",
              "      <td>4</td>\n",
              "      <td>Increase study time and ask for help when faci...</td>\n",
              "      <td>0</td>\n",
              "      <td>1</td>\n",
              "      <td>0</td>\n",
              "      <td>1</td>\n",
              "      <td>1</td>\n",
              "      <td>0</td>\n",
              "      <td>1</td>\n",
              "      <td>0</td>\n",
              "      <td>0</td>\n",
              "    </tr>\n",
              "    <tr>\n",
              "      <th>8</th>\n",
              "      <td>64.50</td>\n",
              "      <td>4</td>\n",
              "      <td>Increase study time and ask for help when faci...</td>\n",
              "      <td>0</td>\n",
              "      <td>1</td>\n",
              "      <td>0</td>\n",
              "      <td>1</td>\n",
              "      <td>1</td>\n",
              "      <td>0</td>\n",
              "      <td>1</td>\n",
              "      <td>0</td>\n",
              "      <td>0</td>\n",
              "    </tr>\n",
              "    <tr>\n",
              "      <th>9</th>\n",
              "      <td>69.95</td>\n",
              "      <td>2</td>\n",
              "      <td>Increase study time and ask for help when faci...</td>\n",
              "      <td>0</td>\n",
              "      <td>1</td>\n",
              "      <td>0</td>\n",
              "      <td>1</td>\n",
              "      <td>0</td>\n",
              "      <td>1</td>\n",
              "      <td>0</td>\n",
              "      <td>0</td>\n",
              "      <td>1</td>\n",
              "    </tr>\n",
              "  </tbody>\n",
              "</table>\n",
              "</div>"
            ],
            "text/plain": [
              "   What is your cumulative weighted average(CWA) / grade point average(GPA)?  ...  How often have you been attending lectures?_seldom\n",
              "0                                              67.50                          ...                                                  1 \n",
              "1                                              71.75                          ...                                                  0 \n",
              "2                                              60.00                          ...                                                  1 \n",
              "3                                              62.37                          ...                                                  0 \n",
              "4                                              56.00                          ...                                                  1 \n",
              "5                                              59.50                          ...                                                  1 \n",
              "6                                              67.00                          ...                                                  0 \n",
              "7                                              76.00                          ...                                                  0 \n",
              "8                                              64.50                          ...                                                  0 \n",
              "9                                              69.95                          ...                                                  1 \n",
              "\n",
              "[10 rows x 12 columns]"
            ]
          },
          "metadata": {
            "tags": []
          },
          "execution_count": 7
        }
      ]
    },
    {
      "cell_type": "code",
      "metadata": {
        "id": "5QVUCN4--lZJ"
      },
      "source": [
        "#change some numeric columns to integers or float types\n",
        "#train_df.astype({'Dependents': 'int64','Loan_Amount_Term': 'int64','ApplicantIncome': 'float64'}).dtypes"
      ],
      "execution_count": null,
      "outputs": []
    },
    {
      "cell_type": "code",
      "metadata": {
        "id": "82aRdI9m-nVA"
      },
      "source": [
        "#creating data for ML\n",
        "X = train_df.drop(['Advice'], axis = 1)\n",
        "\n",
        "y = train_df['Advice']\n"
      ],
      "execution_count": 8,
      "outputs": []
    },
    {
      "cell_type": "code",
      "metadata": {
        "id": "jD_ZLBAAKnku"
      },
      "source": [
        "#splitting data into training and validation samples\n",
        "X_train, X_test, y_train, y_test = train_test_split(X, y, test_size=0.3, random_state=101)"
      ],
      "execution_count": 9,
      "outputs": []
    },
    {
      "cell_type": "code",
      "metadata": {
        "colab": {
          "base_uri": "https://localhost:8080/"
        },
        "id": "XVwmxkmxKyah",
        "outputId": "9be6aa2d-bd9f-4c8f-da61-80445e8f9bcd"
      },
      "source": [
        "#Training random forest classifier\n",
        "rft = RandomForestClassifier(n_estimators=10)\n",
        "rft.fit(X_train,y_train)\n",
        "\n",
        "# Trained Model Evaluation on Validation Dataset\n",
        "confidence = rft.score(X_test, y_test)\n",
        "# Validation Data Prediction\n",
        "preds = rft.predict(X_test)\n",
        "# Model Validation Accuracy\n",
        "accuracy = accuracy_score(y_test, preds)\n",
        "# Model Confusion Matrix\n",
        "conf_mat = confusion_matrix(y_test, preds)\n",
        "# Model Classification Report\n",
        "clf_report = classification_report(y_test, preds)\n",
        "\n",
        "print(confidence)\n",
        "print('\\n')\n",
        "print(accuracy)\n",
        "print('\\n')\n",
        "print(conf_mat)\n",
        "print('\\n')\n",
        "print(clf_report)"
      ],
      "execution_count": 10,
      "outputs": [
        {
          "output_type": "stream",
          "text": [
            "0.968777557319224\n",
            "\n",
            "\n",
            "0.968777557319224\n",
            "\n",
            "\n",
            "[[ 7941     0     0]\n",
            " [    0 19118   578]\n",
            " [    0   555  8096]]\n",
            "\n",
            "\n",
            "                                                             precision    recall  f1-score   support\n",
            "\n",
            "                        Aim higher and don't be complacent        1.00      1.00      1.00      7941\n",
            "Increase study time and ask for help when facing challenges       0.97      0.97      0.97     19696\n",
            "           Seek for a discipline and serious academic group       0.93      0.94      0.93      8651\n",
            "\n",
            "                                                   accuracy                           0.97     36288\n",
            "                                                  macro avg       0.97      0.97      0.97     36288\n",
            "                                               weighted avg       0.97      0.97      0.97     36288\n",
            "\n"
          ],
          "name": "stdout"
        }
      ]
    },
    {
      "cell_type": "code",
      "metadata": {
        "id": "TlJenOUIoudV"
      },
      "source": [
        "['What is your cumulative weighted average(CWA) / grade point average(GPA)?','How many times do you study every week?', 'Were you able to increase your CWA/GPA last semester?', 'Do you have a personal time table?', 'Do you always understand what you are taught at lectures?', 'How often have you been attending lectures?']"
      ],
      "execution_count": null,
      "outputs": []
    },
    {
      "cell_type": "code",
      "metadata": {
        "id": "Sf5yCLGBSESq"
      },
      "source": [
        "#new_im = [67.50, 2, 0, 1, 1, 0, 1, 0, 0, 0, 1]"
      ],
      "execution_count": null,
      "outputs": []
    },
    {
      "cell_type": "code",
      "metadata": {
        "id": "ntz8GaGEnbVg"
      },
      "source": [
        "param = ['What is your cumulative weighted average(CWA) / grade point average(GPA)?','How many times do you study every week?', 'Were you able to increase your CWA/GPA last semester?', 'Do you have a personal time table?', 'Do you always understand what you are taught at lectures?', 'How often have you been attending lectures?']"
      ],
      "execution_count": 13,
      "outputs": []
    },
    {
      "cell_type": "code",
      "metadata": {
        "id": "LybibcEfQP24"
      },
      "source": [
        "#Assume inputs\n",
        "#input_vals = ['67.50','Yes','No','2','No','seldom']"
      ],
      "execution_count": null,
      "outputs": []
    },
    {
      "cell_type": "code",
      "metadata": {
        "colab": {
          "base_uri": "https://localhost:8080/"
        },
        "id": "M0ja7arjJpCo",
        "outputId": "f39ba0b2-338d-473a-b261-467aa1a08ccb"
      },
      "source": [
        "X.info()"
      ],
      "execution_count": null,
      "outputs": [
        {
          "output_type": "stream",
          "text": [
            "<class 'pandas.core.frame.DataFrame'>\n",
            "RangeIndex: 120960 entries, 0 to 120959\n",
            "Data columns (total 11 columns):\n",
            " #   Column                                                                     Non-Null Count   Dtype  \n",
            "---  ------                                                                     --------------   -----  \n",
            " 0   What is your cumulative weighted average(CWA) / grade point average(GPA)?  120960 non-null  float64\n",
            " 1   How many times do you study every week?                                    120960 non-null  int64  \n",
            " 2   Were you able to increase your CWA/GPA last semester?_No                   120960 non-null  uint8  \n",
            " 3   Were you able to increase your CWA/GPA last semester?_Yes                  120960 non-null  uint8  \n",
            " 4   Do you have a personal time table?_No                                      120960 non-null  uint8  \n",
            " 5   Do you have a personal time table?_Yes                                     120960 non-null  uint8  \n",
            " 6   Do you always understand what you are taught at lectures?_No               120960 non-null  uint8  \n",
            " 7   Do you always understand what you are taught at lectures?_Yes              120960 non-null  uint8  \n",
            " 8   How often have you been attending lectures?_often                          120960 non-null  uint8  \n",
            " 9   How often have you been attending lectures?_often                          120960 non-null  uint8  \n",
            " 10  How often have you been attending lectures?_seldom                         120960 non-null  uint8  \n",
            "dtypes: float64(1), int64(1), uint8(9)\n",
            "memory usage: 2.9 MB\n"
          ],
          "name": "stdout"
        }
      ]
    },
    {
      "cell_type": "code",
      "metadata": {
        "colab": {
          "base_uri": "https://localhost:8080/"
        },
        "id": "axK7KcXIMbrv",
        "outputId": "42be6afe-a4a9-4b1b-9c3a-3698b9654d39"
      },
      "source": [
        "#preprocessing model to make single predictions\n",
        "myInput = []\n",
        "for i in range(0,11):\n",
        "    myInput.append(0)\n",
        "print(myInput)"
      ],
      "execution_count": 22,
      "outputs": [
        {
          "output_type": "stream",
          "text": [
            "[0, 0, 0, 0, 0, 0, 0, 0, 0, 0, 0]\n"
          ],
          "name": "stdout"
        }
      ]
    },
    {
      "cell_type": "code",
      "metadata": {
        "colab": {
          "base_uri": "https://localhost:8080/"
        },
        "id": "Ugxs4mMTpwZG",
        "outputId": "4b81bc9a-6185-43f9-a31b-7070ab04de3a"
      },
      "source": [
        " input_vals = []\n",
        "\n",
        "for i in range(0,len(param)):\n",
        "  print(param[i])\n",
        "  vals =input('Enter: ')\n",
        "  #store input in a list\n",
        "  input_vals.append(vals)\n",
        "\n",
        "print(input_vals)"
      ],
      "execution_count": 23,
      "outputs": [
        {
          "output_type": "stream",
          "text": [
            "What is your cumulative weighted average(CWA) / grade point average(GPA)?\n",
            "Enter: 50.5\n",
            "How many times do you study every week?\n",
            "Enter: 3\n",
            "Were you able to increase your CWA/GPA last semester?\n",
            "Enter: Yes\n",
            "Do you have a personal time table?\n",
            "Enter: Yes\n",
            "Do you always understand what you are taught at lectures?\n",
            "Enter: Yes\n",
            "How often have you been attending lectures?\n",
            "Enter: seldom\n",
            "['50.5', '3', 'Yes', 'Yes', 'Yes', 'seldom']\n"
          ],
          "name": "stdout"
        }
      ]
    },
    {
      "cell_type": "code",
      "metadata": {
        "id": "Buags1Q-tGlK"
      },
      "source": [
        "my_im_dict = {}\n",
        "k = 0\n",
        "for i in input_vals:\n",
        "  my_im_dict[k]= i\n",
        "  k+=1"
      ],
      "execution_count": 24,
      "outputs": []
    },
    {
      "cell_type": "code",
      "metadata": {
        "colab": {
          "base_uri": "https://localhost:8080/"
        },
        "id": "-4GmLGPYtyN5",
        "outputId": "576889a6-4fdd-4816-ca8b-9d131d108c7b"
      },
      "source": [
        "print(my_im_dict)"
      ],
      "execution_count": 25,
      "outputs": [
        {
          "output_type": "stream",
          "text": [
            "{0: '50.5', 1: '3', 2: 'Yes', 3: 'Yes', 4: 'Yes', 5: 'seldom'}\n"
          ],
          "name": "stdout"
        }
      ]
    },
    {
      "cell_type": "code",
      "metadata": {
        "id": "jTdrOrM4taBZ"
      },
      "source": [
        "# preprocessing user input for the machine model\n",
        "for i in range(0,len(myInput)):\n",
        "    if i < 2:\n",
        "      myInput[i] = my_im_dict[i]\n",
        "\n",
        "    elif i == 2:\n",
        "      if my_im_dict[i] == \"No\": myInput[i] = 1\n",
        "      else: myInput[i+1] = 1\n",
        "      \n",
        "\n",
        "    elif i == 3:\n",
        "      if my_im_dict[i] == \"No\": myInput[i+1] = 1\n",
        "      else: myInput[i+2] = 1\n",
        "      \n",
        "      \n",
        "\n",
        "    elif i == 4:\n",
        "      if my_im_dict[i] == \"No\": myInput[i+2] = 1\n",
        "      else: myInput[i+3] = 1\n",
        "      \n",
        "      \n",
        "\n",
        "    elif i == 5:\n",
        "      if my_im_dict[i] == \"seldom\": myInput[i+3] = 1\n",
        "      elif my_im_dict[i] == \"often\" : myInput[i+4] = 1\n",
        "      else: myInput[i+5] = 1\n",
        "      "
      ],
      "execution_count": 26,
      "outputs": []
    },
    {
      "cell_type": "code",
      "metadata": {
        "colab": {
          "base_uri": "https://localhost:8080/"
        },
        "id": "sFBnE_K342kG",
        "outputId": "3115a6b9-2d63-4957-fb43-d77307493f0c"
      },
      "source": [
        "print(myInput)"
      ],
      "execution_count": 27,
      "outputs": [
        {
          "output_type": "stream",
          "text": [
            "['50.5', '3', 0, 1, 0, 1, 0, 1, 1, 0, 0]\n"
          ],
          "name": "stdout"
        }
      ]
    },
    {
      "cell_type": "code",
      "metadata": {
        "colab": {
          "base_uri": "https://localhost:8080/"
        },
        "id": "GpOPWMHPSBqc",
        "outputId": "490b7ae6-4046-454f-b8a1-c9b685dc45a0"
      },
      "source": [
        "input_mat = [myInput]\n",
        "pred1 = rft.predict(input_mat)\n",
        "print(pred1)"
      ],
      "execution_count": 28,
      "outputs": [
        {
          "output_type": "stream",
          "text": [
            "['Seek for a discipline and serious academic group']\n"
          ],
          "name": "stdout"
        }
      ]
    },
    {
      "cell_type": "code",
      "metadata": {
        "colab": {
          "base_uri": "https://localhost:8080/"
        },
        "id": "ZXXlvq9l8M7C",
        "outputId": "9c0054bd-f728-4faf-c93c-71536c7a2283"
      },
      "source": [
        "#Training decision tree classifier\n",
        "dt = DecisionTreeClassifier(criterion='entropy')\n",
        "dt.fit(X_train,y_train)\n",
        "\n",
        "# Trained Model Evaluation on Validation Dataset\n",
        "confidence = dt.score(X_test, y_test)\n",
        "# Validation Data Prediction\n",
        "preds = dt.predict(X_test)\n",
        "# Model Validation Accuracy\n",
        "accuracy = accuracy_score(y_test, preds)\n",
        "# Model Confusion Matrix\n",
        "conf_mat = confusion_matrix(y_test, preds)\n",
        "# Model Classification Report\n",
        "clf_report = classification_report(y_test, preds)\n",
        "\n",
        "print(confidence)\n",
        "print('\\n')\n",
        "print(accuracy)\n",
        "print('\\n')\n",
        "print(conf_mat)\n",
        "print('\\n')\n",
        "print(clf_report)"
      ],
      "execution_count": 29,
      "outputs": [
        {
          "output_type": "stream",
          "text": [
            "0.9684744268077602\n",
            "\n",
            "\n",
            "0.9684744268077602\n",
            "\n",
            "\n",
            "[[ 7941     0     0]\n",
            " [    0 18829   867]\n",
            " [    0   277  8374]]\n",
            "\n",
            "\n",
            "                                                             precision    recall  f1-score   support\n",
            "\n",
            "                        Aim higher and don't be complacent        1.00      1.00      1.00      7941\n",
            "Increase study time and ask for help when facing challenges       0.99      0.96      0.97     19696\n",
            "           Seek for a discipline and serious academic group       0.91      0.97      0.94      8651\n",
            "\n",
            "                                                   accuracy                           0.97     36288\n",
            "                                                  macro avg       0.96      0.97      0.97     36288\n",
            "                                               weighted avg       0.97      0.97      0.97     36288\n",
            "\n"
          ],
          "name": "stdout"
        }
      ]
    },
    {
      "cell_type": "code",
      "metadata": {
        "colab": {
          "base_uri": "https://localhost:8080/"
        },
        "id": "Am79W-GH8Rto",
        "outputId": "3a709be4-9296-46c0-a61c-164d28190c6b"
      },
      "source": [
        "input_mat = [myInput]\n",
        "pred2 = dt.predict(input_mat)\n",
        "print(pred2)"
      ],
      "execution_count": 30,
      "outputs": [
        {
          "output_type": "stream",
          "text": [
            "['Seek for a discipline and serious academic group']\n"
          ],
          "name": "stdout"
        }
      ]
    },
    {
      "cell_type": "code",
      "metadata": {
        "colab": {
          "base_uri": "https://localhost:8080/"
        },
        "id": "M-n7CmUm-QXq",
        "outputId": "af92ffef-98c4-4c99-d17b-afffc7ce51b4"
      },
      "source": [
        "#Training KNN classifier\n",
        "#KNN Approach\n",
        "from sklearn.neighbors import KNeighborsClassifier\n",
        "knn = KNeighborsClassifier(n_neighbors=5,metric='minkowski',p=2)\n",
        "knn.fit(X_train,y_train)\n",
        "\n",
        "# Trained Model Evaluation on Validation Dataset\n",
        "confidence = knn.score(X_test, y_test)\n",
        "# Validation Data Prediction\n",
        "preds = knn.predict(X_test)\n",
        "# Model Validation Accuracy\n",
        "accuracy = accuracy_score(y_test, preds)\n",
        "# Model Confusion Matrix\n",
        "conf_mat = confusion_matrix(y_test, preds)\n",
        "# Model Classification Report\n",
        "clf_report = classification_report(y_test, preds)\n",
        "\n",
        "print(confidence)\n",
        "print('\\n')\n",
        "print(accuracy)\n",
        "print('\\n')\n",
        "print(conf_mat)\n",
        "print('\\n')\n",
        "print(clf_report)"
      ],
      "execution_count": 31,
      "outputs": [
        {
          "output_type": "stream",
          "text": [
            "0.968722442680776\n",
            "\n",
            "\n",
            "0.968722442680776\n",
            "\n",
            "\n",
            "[[ 7941     0     0]\n",
            " [    0 19111   585]\n",
            " [    0   550  8101]]\n",
            "\n",
            "\n",
            "                                                             precision    recall  f1-score   support\n",
            "\n",
            "                        Aim higher and don't be complacent        1.00      1.00      1.00      7941\n",
            "Increase study time and ask for help when facing challenges       0.97      0.97      0.97     19696\n",
            "           Seek for a discipline and serious academic group       0.93      0.94      0.93      8651\n",
            "\n",
            "                                                   accuracy                           0.97     36288\n",
            "                                                  macro avg       0.97      0.97      0.97     36288\n",
            "                                               weighted avg       0.97      0.97      0.97     36288\n",
            "\n"
          ],
          "name": "stdout"
        }
      ]
    },
    {
      "cell_type": "code",
      "metadata": {
        "colab": {
          "base_uri": "https://localhost:8080/"
        },
        "id": "me0xgTau-eYt",
        "outputId": "8cbc9cc8-e300-425d-d60d-51b3bd0395f4"
      },
      "source": [
        "input_mat = [myInput]\n",
        "pred4 = knn.predict(input_mat)\n",
        "print(pred4)"
      ],
      "execution_count": 32,
      "outputs": [
        {
          "output_type": "stream",
          "text": [
            "['Seek for a discipline and serious academic group']\n"
          ],
          "name": "stdout"
        },
        {
          "output_type": "stream",
          "text": [
            "/usr/local/lib/python3.7/dist-packages/sklearn/neighbors/_classification.py:171: FutureWarning: Beginning in version 0.22, arrays of bytes/strings will be converted to decimal numbers if dtype='numeric'. It is recommended that you convert the array to a float dtype before using it in scikit-learn, for example by using your_array = your_array.astype(np.float64).\n",
            "  X = check_array(X, accept_sparse='csr')\n",
            "/usr/local/lib/python3.7/dist-packages/sklearn/neighbors/_base.py:605: FutureWarning: Beginning in version 0.22, arrays of bytes/strings will be converted to decimal numbers if dtype='numeric'. It is recommended that you convert the array to a float dtype before using it in scikit-learn, for example by using your_array = your_array.astype(np.float64).\n",
            "  X = check_array(X, accept_sparse='csr')\n"
          ],
          "name": "stderr"
        }
      ]
    }
  ]
}